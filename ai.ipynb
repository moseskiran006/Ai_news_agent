{
  "cells": [
    {
      "cell_type": "code",
      "execution_count": null,
      "metadata": {
        "colab": {
          "base_uri": "https://localhost:8080/"
        },
        "id": "luTFJKB5i7wc",
        "outputId": "b75bb912-da5f-480d-e96f-434a92c5e973"
      },
      "outputs": [
        {
          "ename": "",
          "evalue": "",
          "output_type": "error",
          "traceback": [
            "\u001b[1;31mRunning cells with 'myenv (Python 3.11.9)' requires the ipykernel package.\n",
            "\u001b[1;31mRun the following command to install 'ipykernel' into the Python environment. \n",
            "\u001b[1;31mCommand: '\"c:/Users/HP/Downloads/React App/amglobal/myenv/Scripts/python.exe\" -m pip install ipykernel -U --force-reinstall'"
          ]
        }
      ],
      "source": [
        "!pip install gradio requests beautifulsoup4 feedparser transformers newspaper3k nltk python-telegram-bot pandas yake\n"
      ]
    },
    {
      "cell_type": "code",
      "execution_count": null,
      "metadata": {
        "id": "488QLF8F40Cs"
      },
      "outputs": [],
      "source": [
        "!pip install"
      ]
    },
    {
      "cell_type": "code",
      "execution_count": 6,
      "metadata": {
        "colab": {
          "base_uri": "https://localhost:8080/"
        },
        "id": "P1xOzuK1lwXs",
        "outputId": "9b37bcfb-a466-43af-e6b6-f0c6f26c5d0f"
      },
      "outputs": [
        {
          "name": "stdout",
          "output_type": "stream",
          "text": [
            "✅ Success!\n"
          ]
        }
      ],
      "source": [
        "import asyncio\n",
        "from telegram import Bot\n",
        "\n",
        "TELEGRAM_BOT_TOKEN = \"7905911322:AAH5xaHBtifMbBQZ0svpXhUBk_tNMUFpCcw\"\n",
        "TELEGRAM_CHAT_ID = \"1379769340\"  # or your personal chat ID\n",
        "\n",
        "async def test_bot():\n",
        "    bot = Bot(token=TELEGRAM_BOT_TOKEN)\n",
        "    try:\n",
        "        await bot.send_message(\n",
        "            chat_id=TELEGRAM_CHAT_ID,\n",
        "            text=\"🚀 Test from Jupyter!\"\n",
        "        )\n",
        "        print(\"✅ Success!\")\n",
        "    except Exception as e:\n",
        "        print(f\"❌ Error: {e}\")\n",
        "\n",
        "# Jupyter-specific execution\n",
        "await test_bot()  # Just use 'await' directly in Jupyter"
      ]
    },
    {
      "cell_type": "code",
      "execution_count": 9,
      "metadata": {
        "colab": {
          "base_uri": "https://localhost:8080/"
        },
        "id": "9lpAZ0dfmIme",
        "outputId": "a4526225-5ad5-4143-d4e9-45f9bd36e7b4"
      },
      "outputs": [
        {
          "name": "stdout",
          "output_type": "stream",
          "text": [
            "Permission check failed: There are no administrators in the private chat\n"
          ]
        }
      ],
      "source": [
        "async def check_permissions():\n",
        "    bot = Bot(token=TELEGRAM_BOT_TOKEN)\n",
        "    try:\n",
        "        chat = await bot.get_chat(TELEGRAM_CHAT_ID)\n",
        "        admins = await chat.get_administrators()\n",
        "        if any(admin.user.id == (await bot.get_me()).id for admin in admins):\n",
        "            print(\"✅ Bot is admin in the channel\")\n",
        "        else:\n",
        "            print(\"❌ Bot is NOT an admin. Add it as administrator.\")\n",
        "    except Exception as e:\n",
        "        print(f\"Permission check failed: {str(e)}\")\n",
        "\n",
        "# Just use await directly - no asyncio.run() needed\n",
        "await check_permissions()"
      ]
    },
    {
      "cell_type": "code",
      "execution_count": 10,
      "metadata": {
        "colab": {
          "base_uri": "https://localhost:8080/"
        },
        "id": "EanjPlAVoH-3",
        "outputId": "88e949a4-5f13-410e-966a-e82091ed78f2"
      },
      "outputs": [
        {
          "name": "stdout",
          "output_type": "stream",
          "text": [
            "Error: Member list is inaccessible\n"
          ]
        },
        {
          "name": "stderr",
          "output_type": "stream",
          "text": [
            "/usr/local/lib/python3.11/dist-packages/anyio/abc/_sockets.py:76: RuntimeWarning: coroutine 'check_permissions' was never awaited\n",
            "  attributes[SocketAttribute.remote_address] = lambda: peername\n",
            "RuntimeWarning: Enable tracemalloc to get the object allocation traceback\n"
          ]
        }
      ],
      "source": [
        "async def check_channel_permissions():\n",
        "    bot = Bot(token=TELEGRAM_BOT_TOKEN)\n",
        "    try:\n",
        "        # Must use the channel's public username (e.g., @mynewsbot)\n",
        "        # OR the channel ID (a negative number, get it via @username_to_id_bot)\n",
        "        chat = await bot.get_chat(\"@your_channel_username\")\n",
        "\n",
        "        # Check if bot is admin\n",
        "        admins = await chat.get_administrators()\n",
        "        bot_id = (await bot.get_me()).id\n",
        "        if any(admin.user.id == bot_id for admin in admins):\n",
        "            print(\"✅ Bot is admin in the channel\")\n",
        "        else:\n",
        "            print(\"❌ Bot is NOT an admin. Add it via Channel Settings > Administrators\")\n",
        "    except Exception as e:\n",
        "        print(f\"Error: {str(e)}\")\n",
        "\n",
        "# Run in Jupyter:\n",
        "await check_channel_permissions()"
      ]
    },
    {
      "cell_type": "code",
      "execution_count": 11,
      "metadata": {
        "colab": {
          "base_uri": "https://localhost:8080/"
        },
        "id": "yxD7GLFyoaBm",
        "outputId": "1e55b30a-bdf0-43e5-c22f-f0f753ffd867"
      },
      "outputs": [
        {
          "name": "stdout",
          "output_type": "stream",
          "text": [
            "Starting permission check...\n",
            "Chat type: private\n",
            "\n",
            "Final result: ✅ SUCCESS\n"
          ]
        }
      ],
      "source": [
        "import asyncio\n",
        "import telegram\n",
        "from telegram import Bot\n",
        "\n",
        "TELEGRAM_BOT_TOKEN = \"7905911322:AAH5xaHBtifMbBQZ0svpXhUBk_tNMUFpCcw\"\n",
        "TELEGRAM_CHAT_ID = \"1379769340\"  # or your personal chat ID\n",
        "\n",
        "async def robust_permission_check():\n",
        "    bot = Bot(token=TELEGRAM_BOT_TOKEN)\n",
        "    try:\n",
        "        chat = await bot.get_chat(TELEGRAM_CHAT_ID)\n",
        "        print(f\"Chat type: {chat.type}\")\n",
        "\n",
        "        # For channels/groups\n",
        "        if chat.type in [\"channel\", \"supergroup\"]:\n",
        "            try:\n",
        "                admins = await chat.get_administrators()\n",
        "                bot_id = (await bot.get_me()).id\n",
        "                is_admin = any(admin.user.id == bot_id for admin in admins)\n",
        "                print(f\"Admin check: {is_admin}\")\n",
        "                return is_admin\n",
        "            except telegram.error.BadRequest as e:\n",
        "                if \"Member list is inaccessible\" in str(e):\n",
        "                    print(\"⚠️ Can't check admin list directly - trying post test\")\n",
        "                    try:\n",
        "                        await bot.send_message(\n",
        "                            chat_id=TELEGRAM_CHAT_ID,\n",
        "                            text=\"🔒 Permission test message\",\n",
        "                            disable_notification=True\n",
        "                        )\n",
        "                        print(\"✅ Can post messages\")\n",
        "                        return True\n",
        "                    except Exception as post_error:\n",
        "                        print(f\"❌ Post failed: {post_error}\")\n",
        "                        return False\n",
        "                raise\n",
        "        return True\n",
        "    except Exception as e:\n",
        "        print(f\"🔴 Critical error: {type(e).__name__}: {e}\")\n",
        "        return False\n",
        "\n",
        "# Test runner\n",
        "async def main():\n",
        "    print(\"Starting permission check...\")\n",
        "    success = await robust_permission_check()\n",
        "    print(f\"\\nFinal result: {'✅ SUCCESS' if success else '❌ FAILED'}\")\n",
        "\n",
        "# Jupyter/Colab:\n",
        "await main()\n",
        "\n",
        "# Regular Python script:\n",
        "# if __name__ == \"__main__\":\n",
        "#     asyncio.run(main())"
      ]
    },
    {
      "cell_type": "code",
      "execution_count": 27,
      "metadata": {
        "colab": {
          "base_uri": "https://localhost:8080/"
        },
        "id": "L_lVW93Bo0Wn",
        "outputId": "e93dd595-0b39-486f-db7a-87e4e1f57bb3"
      },
      "outputs": [
        {
          "name": "stdout",
          "output_type": "stream",
          "text": [
            "WARNING: All log messages before absl::InitializeLog() is called are written to STDERR\n",
            "E0000 00:00:1743502156.332423   20384 cuda_dnn.cc:8310] Unable to register cuDNN factory: Attempting to register factory for plugin cuDNN when one has already been registered\n",
            "E0000 00:00:1743502156.338485   20384 cuda_blas.cc:1418] Unable to register cuBLAS factory: Attempting to register factory for plugin cuBLAS when one has already been registered\n",
            "[nltk_data] Downloading package punkt to /root/nltk_data...\n",
            "[nltk_data]   Package punkt is already up-to-date!\n",
            "[nltk_data] Downloading package stopwords to /root/nltk_data...\n",
            "[nltk_data]   Package stopwords is already up-to-date!\n",
            "Device set to use cuda:0\n",
            "Running Telegram connectivity test...\n",
            "INFO:httpx:HTTP Request: GET https://api.gradio.app/pkg-version \"HTTP/1.1 200 OK\"\n",
            "INFO:__main__:Successfully published message to Telegram\n",
            "Telegram test: ✅ Success\n",
            "* Running on local URL:  http://127.0.0.1:7860\n",
            "INFO:httpx:HTTP Request: GET http://127.0.0.1:7860/gradio_api/startup-events \"HTTP/1.1 200 OK\"\n",
            "INFO:httpx:HTTP Request: HEAD http://127.0.0.1:7860/ \"HTTP/1.1 200 OK\"\n",
            "INFO:httpx:HTTP Request: GET https://api.gradio.app/v3/tunnel-request \"HTTP/1.1 200 OK\"\n",
            "* Running on public URL: https://67c41d7450823aef05.gradio.live\n",
            "\n",
            "This share link expires in 72 hours. For free permanent hosting and GPU upgrades, run `gradio deploy` from the terminal in the working directory to deploy to Hugging Face Spaces (https://huggingface.co/spaces)\n",
            "INFO:__main__:Successfully published message to Telegram\n",
            "INFO:__main__:Successfully published message to Telegram\n",
            "INFO:__main__:Published to Telegram: True | Adults Seem Indifferent to World’s Destruction, Fi...\n",
            "Keyboard interruption in main thread... closing server.\n",
            "Traceback (most recent call last):\n",
            "  File \"/usr/local/lib/python3.11/dist-packages/gradio/blocks.py\", line 2997, in block_thread\n",
            "    time.sleep(0.1)\n",
            "KeyboardInterrupt\n",
            "\n",
            "During handling of the above exception, another exception occurred:\n",
            "\n",
            "Traceback (most recent call last):\n",
            "  File \"/content/backend.py\", line 413, in <module>\n",
            "    demo.launch(share=True)\n",
            "  File \"/usr/local/lib/python3.11/dist-packages/gradio/blocks.py\", line 2903, in launch\n",
            "    self.block_thread()\n",
            "  File \"/usr/local/lib/python3.11/dist-packages/gradio/blocks.py\", line 3001, in block_thread\n",
            "    self.server.close()\n",
            "  File \"/usr/local/lib/python3.11/dist-packages/gradio/http_server.py\", line 69, in close\n",
            "    self.thread.join(timeout=5)\n",
            "  File \"/usr/lib/python3.11/threading.py\", line 1123, in join\n",
            "    self._wait_for_tstate_lock(timeout=max(timeout, 0))\n",
            "  File \"/usr/lib/python3.11/threading.py\", line 1139, in _wait_for_tstate_lock\n",
            "    if lock.acquire(block, timeout):\n",
            "       ^^^^^^^^^^^^^^^^^^^^^^^^^^^^\n",
            "KeyboardInterrupt\n",
            "Killing tunnel 127.0.0.1:7860 <> https://67c41d7450823aef05.gradio.live\n"
          ]
        }
      ],
      "source": [
        "!python backend.py"
      ]
    },
    {
      "cell_type": "code",
      "execution_count": 13,
      "metadata": {
        "colab": {
          "base_uri": "https://localhost:8080/"
        },
        "id": "ZfH1AhPWpEDu",
        "outputId": "be8c5baa-f14a-4170-cc30-3673cd6f7c1c"
      },
      "outputs": [
        {
          "name": "stdout",
          "output_type": "stream",
          "text": [
            "Requirement already satisfied: lxml[html_Clean] in /usr/local/lib/python3.11/dist-packages (5.3.1)\n",
            "Collecting lxml_html_clean (from lxml[html_Clean])\n",
            "  Downloading lxml_html_clean-0.4.1-py3-none-any.whl.metadata (2.4 kB)\n",
            "Downloading lxml_html_clean-0.4.1-py3-none-any.whl (14 kB)\n",
            "Installing collected packages: lxml_html_clean\n",
            "Successfully installed lxml_html_clean-0.4.1\n"
          ]
        }
      ],
      "source": [
        "!pip install lxml[html_Clean]"
      ]
    },
    {
      "cell_type": "code",
      "execution_count": 17,
      "metadata": {
        "colab": {
          "base_uri": "https://localhost:8080/",
          "height": 141
        },
        "id": "dikjKHmgpOBV",
        "outputId": "136375a5-1c3c-4f77-9d40-ded220043513"
      },
      "outputs": [
        {
          "ename": "NameError",
          "evalue": "name 'publish_to_telegram_sync' is not defined",
          "output_type": "error",
          "traceback": [
            "\u001b[0;31m---------------------------------------------------------------------------\u001b[0m",
            "\u001b[0;31mNameError\u001b[0m                                 Traceback (most recent call last)",
            "\u001b[0;32m<ipython-input-17-1beb280a7e1f>\u001b[0m in \u001b[0;36m<cell line: 0>\u001b[0;34m()\u001b[0m\n\u001b[0;32m----> 1\u001b[0;31m \u001b[0mpublish_to_telegram_sync\u001b[0m\u001b[0;34m(\u001b[0m\u001b[0;34m\"TEST MESSAGE - Please ignore\"\u001b[0m\u001b[0;34m)\u001b[0m\u001b[0;34m\u001b[0m\u001b[0;34m\u001b[0m\u001b[0m\n\u001b[0m",
            "\u001b[0;31mNameError\u001b[0m: name 'publish_to_telegram_sync' is not defined"
          ]
        }
      ],
      "source": [
        "publish_to_telegram_sync(\"TEST MESSAGE - Please ignore\")"
      ]
    },
    {
      "cell_type": "code",
      "execution_count": 19,
      "metadata": {
        "colab": {
          "base_uri": "https://localhost:8080/"
        },
        "id": "4qghQ6r0tiMW",
        "outputId": "bd507754-aad0-44ac-a879-ef744d7d9e34"
      },
      "outputs": [
        {
          "name": "stdout",
          "output_type": "stream",
          "text": [
            "Telegram API Response: {'ok': True, 'result': {'message_id': 7, 'from': {'id': 7905911322, 'is_bot': True, 'first_name': 'ai', 'username': 'ai_madhav_uncle_bot'}, 'chat': {'id': 1379769340, 'first_name': 'Pilli', 'last_name': 'Kiran', 'username': 'Moses_kiran', 'type': 'private'}, 'date': 1743500330, 'text': '🔥 TEST MESSAGE - Bot is working!'}}\n"
          ]
        }
      ],
      "source": [
        "import requests\n",
        "\n",
        "TELEGRAM_BOT_TOKEN = \"7905911322:AAH5xaHBtifMbBQZ0svpXhUBk_tNMUFpCcw\"\n",
        "TELEGRAM_CHANNEL_ID = \"1379769340\"  # or your personal chat ID\n",
        "\n",
        "def test_telegram():\n",
        "    test_msg = \"🔥 TEST MESSAGE - Bot is working!\"\n",
        "    url = f\"https://api.telegram.org/bot{TELEGRAM_BOT_TOKEN}/sendMessage\"\n",
        "    payload = {\n",
        "        \"chat_id\": TELEGRAM_CHANNEL_ID,\n",
        "        \"text\": test_msg\n",
        "    }\n",
        "    response = requests.post(url, json=payload).json()\n",
        "    print(\"Telegram API Response:\", response)\n",
        "\n",
        "test_telegram()"
      ]
    },
    {
      "cell_type": "code",
      "execution_count": null,
      "metadata": {
        "id": "UApdZeUat4xi"
      },
      "outputs": [],
      "source": []
    }
  ],
  "metadata": {
    "accelerator": "GPU",
    "colab": {
      "gpuType": "T4",
      "provenance": []
    },
    "kernelspec": {
      "display_name": "myenv",
      "language": "python",
      "name": "python3"
    },
    "language_info": {
      "name": "python",
      "version": "3.11.9"
    }
  },
  "nbformat": 4,
  "nbformat_minor": 0
}
